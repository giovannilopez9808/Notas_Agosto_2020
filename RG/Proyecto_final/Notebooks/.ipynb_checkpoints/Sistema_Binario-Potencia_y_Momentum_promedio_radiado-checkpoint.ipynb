{
 "cells": [
  {
   "cell_type": "markdown",
   "metadata": {},
   "source": [
    "# Sistema binario: Energía y Momentum angular radiado"
   ]
  },
  {
   "cell_type": "code",
   "execution_count": 1,
   "metadata": {
    "collapsed": true
   },
   "outputs": [],
   "source": [
    "from sympy import *\n",
    "init_printing(use_unicode=True)"
   ]
  },
  {
   "cell_type": "markdown",
   "metadata": {},
   "source": [
    "Primero definimos los símbolos de las variables a usar: $a,e,\\mu,L,\\omega_0,\\varphi$ y $\\varphi_0$:"
   ]
  },
  {
   "cell_type": "code",
   "execution_count": 2,
   "metadata": {},
   "outputs": [],
   "source": [
    "a = Symbol('a', positive=True)\n",
    "e = Symbol('e', positive=True)\n",
    "mu = Symbol('mu', positive=True)\n",
    "L = Symbol('L',positive=True)\n",
    "omega0 = Symbol('omega0',positive=True)\n",
    "phi = Symbol('varphi',positive=True)\n",
    "phi0 = Symbol('varphi0',real=True)"
   ]
  },
  {
   "cell_type": "markdown",
   "metadata": {
    "collapsed": true
   },
   "source": [
    "# Momento de inercia: $M_{ij}$"
   ]
  },
  {
   "cell_type": "markdown",
   "metadata": {},
   "source": [
    "Y ahora definimos los símbolos de las componentes (no nulas) del momento cuadrupolar $M_{ij}$, como funciones de $\\varphi$"
   ]
  },
  {
   "cell_type": "code",
   "execution_count": 3,
   "metadata": {},
   "outputs": [],
   "source": [
    "M11 = Function('M11')(phi)\n",
    "M12 = Function('M12')(phi)\n",
    "M22 = Function('M22')(phi)\n",
    "r = Function('r')(phi)"
   ]
  },
  {
   "cell_type": "markdown",
   "metadata": {},
   "source": [
    "Ahora ingresamos la forma de la órbita Kepleriana, en términos de $a, e, \\varphi$ y $\\varphi_0$:"
   ]
  },
  {
   "cell_type": "code",
   "execution_count": 4,
   "metadata": {
    "collapsed": true
   },
   "outputs": [],
   "source": [
    "r = a*(1-e**2)/(1+e*cos(phi-phi0))"
   ]
  },
  {
   "cell_type": "code",
   "execution_count": 5,
   "metadata": {},
   "outputs": [
    {
     "data": {
      "image/png": "[encoded data removed]",
      "text/latex": [
       "$$\\frac{a \\left(- e^{2} + 1\\right)}{e \\cos{\\left (\\varphi - \\varphi_{0} \\right )} + 1}$$"
      ],
      "text/plain": [
       "          ⎛   2    ⎞       \n",
       "        a⋅⎝- e  + 1⎠       \n",
       "───────────────────────────\n",
       "e⋅cos(varphi - varphi₀) + 1"
      ]
     },
     "execution_count": 5,
     "metadata": {},
     "output_type": "execute_result"
    }
   ],
   "source": [
    "r"
   ]
  },
  {
   "cell_type": "markdown",
   "metadata": {},
   "source": [
    "Ahora sustituimos los valores de las componentes del momento cuadrupolar en función de las coordenadas del sistema reducido:"
   ]
  },
  {
   "cell_type": "code",
   "execution_count": 6,
   "metadata": {
    "collapsed": true
   },
   "outputs": [],
   "source": [
    "M11 = mu*(r**2)*cos(phi)**2\n",
    "M12 = mu*(r**2)*sin(phi)*cos(phi)\n",
    "M22 = mu*(r**2)*sin(phi)**2"
   ]
  },
  {
   "cell_type": "code",
   "execution_count": 7,
   "metadata": {},
   "outputs": [
    {
     "data": {
      "image/png": "[encoded data removed]",
      "text/latex": [
       "$$\\left ( \\frac{a^{2} \\mu \\left(- e^{2} + 1\\right)^{2} \\cos^{2}{\\left (\\varphi \\right )}}{\\left(e \\cos{\\left (\\varphi - \\varphi_{0} \\right )} + 1\\right)^{2}}, \\quad \\frac{a^{2} \\mu \\left(- e^{2} + 1\\right)^{2} \\sin{\\left (\\varphi \\right )} \\cos{\\left (\\varphi \\right )}}{\\left(e \\cos{\\left (\\varphi - \\varphi_{0} \\right )} + 1\\right)^{2}}, \\quad \\frac{a^{2} \\mu \\left(- e^{2} + 1\\right)^{2} \\sin^{2}{\\left (\\varphi \\right )}}{\\left(e \\cos{\\left (\\varphi - \\varphi_{0} \\right )} + 1\\right)^{2}}\\right )$$"
      ],
      "text/plain": [
       "⎛               2                               2                             \n",
       "⎜ 2   ⎛   2    ⎞     2            2   ⎛   2    ⎞                            2 \n",
       "⎜a ⋅μ⋅⎝- e  + 1⎠ ⋅cos (varphi)   a ⋅μ⋅⎝- e  + 1⎠ ⋅sin(varphi)⋅cos(varphi)  a ⋅\n",
       "⎜──────────────────────────────, ────────────────────────────────────────, ───\n",
       "⎜                             2                                    2          \n",
       "⎝(e⋅cos(varphi - varphi₀) + 1)        (e⋅cos(varphi - varphi₀) + 1)        (e⋅\n",
       "\n",
       "            2              ⎞\n",
       "  ⎛   2    ⎞     2         ⎟\n",
       "μ⋅⎝- e  + 1⎠ ⋅sin (varphi) ⎟\n",
       "───────────────────────────⎟\n",
       "                          2⎟\n",
       "cos(varphi - varphi₀) + 1) ⎠"
      ]
     },
     "execution_count": 7,
     "metadata": {},
     "output_type": "execute_result"
    }
   ],
   "source": [
    "M11,M12,M22"
   ]
  },
  {
   "cell_type": "markdown",
   "metadata": {},
   "source": [
    "# Calculo de la derivada ${d M_{ij}}/{d\\varphi}$"
   ]
  },
  {
   "cell_type": "markdown",
   "metadata": {},
   "source": [
    "Calculamos las derivadas de las componentes de $M_{ij}$ respecto a $\\varphi$, usando la función `diff` de Sympy"
   ]
  },
  {
   "cell_type": "code",
   "execution_count": 8,
   "metadata": {},
   "outputs": [],
   "source": [
    "dM11_phi = simplify(diff(M11,phi))\n",
    "dM12_phi = simplify(diff(M12,phi))\n",
    "dM22_phi = simplify(diff(M22,phi))"
   ]
  },
  {
   "cell_type": "code",
   "execution_count": 9,
   "metadata": {},
   "outputs": [
    {
     "data": {
      "image/png": "[encoded data removed]",
      "text/latex": [
       "$$\\left ( - \\frac{2 a^{2} \\mu \\left(e^{2} - 1\\right)^{2} \\cos{\\left (\\varphi \\right )}}{\\left(e \\cos{\\left (\\varphi - \\varphi_{0} \\right )} + 1\\right)^{3}} \\left(e \\sin{\\left (\\varphi_{0} \\right )} + \\sin{\\left (\\varphi \\right )}\\right), \\quad \\frac{a^{2} \\mu \\left(e^{2} - 1\\right)^{2}}{\\left(e \\cos{\\left (\\varphi - \\varphi_{0} \\right )} + 1\\right)^{3}} \\left(\\frac{e}{2} \\left(\\cos{\\left (\\varphi + \\varphi_{0} \\right )} - \\cos{\\left (3 \\varphi - \\varphi_{0} \\right )}\\right) + \\left(e \\cos{\\left (\\varphi - \\varphi_{0} \\right )} + 1\\right) \\cos{\\left (2 \\varphi \\right )}\\right), \\quad \\frac{2 a^{2} \\mu \\left(e^{2} - 1\\right)^{2} \\sin{\\left (\\varphi \\right )}}{\\left(e \\cos{\\left (\\varphi - \\varphi_{0} \\right )} + 1\\right)^{3}} \\left(e \\cos{\\left (\\varphi_{0} \\right )} + \\cos{\\left (\\varphi \\right )}\\right)\\right )$$"
      ],
      "text/plain": [
       "⎛                                                                            2\n",
       "⎜                2                                               2   ⎛ 2    ⎞ \n",
       "⎜    2   ⎛ 2    ⎞                                               a ⋅μ⋅⎝e  - 1⎠ \n",
       "⎜-2⋅a ⋅μ⋅⎝e  - 1⎠ ⋅(e⋅sin(varphi₀) + sin(varphi))⋅cos(varphi)                 \n",
       "⎜─────────────────────────────────────────────────────────────, ──────────────\n",
       "⎜                                             3                               \n",
       "⎝                (e⋅cos(varphi - varphi₀) + 1)                                \n",
       "\n",
       "                                                                              \n",
       " ⎛e⋅(cos(varphi + varphi₀) - cos(3⋅varphi - varphi₀))                         \n",
       "⋅⎜─────────────────────────────────────────────────── + (e⋅cos(varphi - varphi\n",
       " ⎝                         2                                                  \n",
       "──────────────────────────────────────────────────────────────────────────────\n",
       "                                                         3                    \n",
       "                            (e⋅cos(varphi - varphi₀) + 1)                     \n",
       "\n",
       "                                                                              \n",
       "                     ⎞                 2                                      \n",
       "₀) + 1)⋅cos(2⋅varphi)⎟     2   ⎛ 2    ⎞                                       \n",
       "                     ⎠  2⋅a ⋅μ⋅⎝e  - 1⎠ ⋅(e⋅cos(varphi₀) + cos(varphi))⋅sin(va\n",
       "──────────────────────, ──────────────────────────────────────────────────────\n",
       "                                                                    3         \n",
       "                                       (e⋅cos(varphi - varphi₀) + 1)          \n",
       "\n",
       "     ⎞\n",
       "     ⎟\n",
       "     ⎟\n",
       "rphi)⎟\n",
       "─────⎟\n",
       "     ⎟\n",
       "     ⎠"
      ]
     },
     "execution_count": 9,
     "metadata": {},
     "output_type": "execute_result"
    }
   ],
   "source": [
    "dM11_phi,dM12_phi,dM22_phi"
   ]
  },
  {
   "cell_type": "markdown",
   "metadata": {},
   "source": [
    "# Calculo de las derivadas $\\dot{M}_{ij}$, $\\ddot{M}_{ij}$ y $\\dddot{M}_{ij}$"
   ]
  },
  {
   "cell_type": "markdown",
   "metadata": {},
   "source": [
    "Ahora calculamos las derivadas respecto al tiempo, usando la regla de la cadena, es decir,\n",
    "$$\\frac{dM_{ij}}{dt}=\\frac{dM_{ij}}{d\\varphi}\\frac{d\\varphi}{dt},$$\n",
    "donde luego sustituiremos\n",
    "$$\\frac{d \\varphi}{d t}=\\frac{L}{\\mu r^2},$$\n",
    "con \n",
    "$$L=\\omega_0\\mu a^2\\sqrt{1-e^2}$$"
   ]
  },
  {
   "cell_type": "code",
   "execution_count": 10,
   "metadata": {},
   "outputs": [],
   "source": [
    "L = omega0*mu*(a**2)*sqrt(1-e**2)\n",
    "dphi_t = L/(mu*r**2)"
   ]
  },
  {
   "cell_type": "code",
   "execution_count": 11,
   "metadata": {},
   "outputs": [
    {
     "data": {
      "image/png": "[encoded data removed]",
      "text/latex": [
       "$$\\frac{\\omega_{0}}{\\left(- e^{2} + 1\\right)^{\\frac{3}{2}}} \\left(e \\cos{\\left (\\varphi - \\varphi_{0} \\right )} + 1\\right)^{2}$$"
      ],
      "text/plain": [
       "                                2\n",
       "ω₀⋅(e⋅cos(varphi - varphi₀) + 1) \n",
       "─────────────────────────────────\n",
       "                    3/2          \n",
       "          ⎛   2    ⎞             \n",
       "          ⎝- e  + 1⎠             "
      ]
     },
     "execution_count": 11,
     "metadata": {},
     "output_type": "execute_result"
    }
   ],
   "source": [
    "dphi_t"
   ]
  },
  {
   "cell_type": "code",
   "execution_count": 12,
   "metadata": {},
   "outputs": [],
   "source": [
    "dM11_t = simplify(dM11_phi*dphi_t)\n",
    "dM12_t = simplify(dM12_phi*dphi_t)\n",
    "dM22_t = simplify(dM22_phi*dphi_t)"
   ]
  },
  {
   "cell_type": "code",
   "execution_count": 13,
   "metadata": {},
   "outputs": [
    {
     "data": {
      "image/png": "[encoded data removed]",
      "text/latex": [
       "$$\\left ( - \\frac{2 a^{2} \\mu \\omega_{0} \\sqrt{- e^{2} + 1} \\cos{\\left (\\varphi \\right )}}{e \\cos{\\left (\\varphi - \\varphi_{0} \\right )} + 1} \\left(e \\sin{\\left (\\varphi_{0} \\right )} + \\sin{\\left (\\varphi \\right )}\\right), \\quad \\frac{a^{2} \\mu \\omega_{0} \\sqrt{- e^{2} + 1}}{2 e \\cos{\\left (\\varphi - \\varphi_{0} \\right )} + 2} \\left(e \\left(\\cos{\\left (\\varphi + \\varphi_{0} \\right )} - \\cos{\\left (3 \\varphi - \\varphi_{0} \\right )}\\right) + 2 \\left(e \\cos{\\left (\\varphi - \\varphi_{0} \\right )} + 1\\right) \\cos{\\left (2 \\varphi \\right )}\\right), \\quad \\frac{2 a^{2} \\mu \\omega_{0} \\sqrt{- e^{2} + 1} \\sin{\\left (\\varphi \\right )}}{e \\cos{\\left (\\varphi - \\varphi_{0} \\right )} + 1} \\left(e \\cos{\\left (\\varphi_{0} \\right )} + \\cos{\\left (\\varphi \\right )}\\right)\\right )$$"
      ],
      "text/plain": [
       "⎛              __________                                                     \n",
       "⎜    2        ╱    2                                                    2     \n",
       "⎜-2⋅a ⋅μ⋅ω₀⋅╲╱  - e  + 1 ⋅(e⋅sin(varphi₀) + sin(varphi))⋅cos(varphi)   a ⋅μ⋅ω₀\n",
       "⎜────────────────────────────────────────────────────────────────────, ───────\n",
       "⎝                    e⋅cos(varphi - varphi₀) + 1                              \n",
       "\n",
       "    __________                                                                \n",
       "   ╱    2                                                                     \n",
       "⋅╲╱  - e  + 1 ⋅(e⋅(cos(varphi + varphi₀) - cos(3⋅varphi - varphi₀)) + 2⋅(e⋅cos\n",
       "──────────────────────────────────────────────────────────────────────────────\n",
       "                                       2⋅(e⋅cos(varphi - varphi₀) + 1)        \n",
       "\n",
       "                                                     __________               \n",
       "                                           2        ╱    2                    \n",
       "(varphi - varphi₀) + 1)⋅cos(2⋅varphi))  2⋅a ⋅μ⋅ω₀⋅╲╱  - e  + 1 ⋅(e⋅cos(varphi₀\n",
       "──────────────────────────────────────, ──────────────────────────────────────\n",
       "                                                           e⋅cos(varphi - varp\n",
       "\n",
       "                            ⎞\n",
       "                            ⎟\n",
       ") + cos(varphi))⋅sin(varphi)⎟\n",
       "────────────────────────────⎟\n",
       "hi₀) + 1                    ⎠"
      ]
     },
     "execution_count": 13,
     "metadata": {},
     "output_type": "execute_result"
    }
   ],
   "source": [
    "dM11_t,dM12_t,dM22_t"
   ]
  },
  {
   "cell_type": "markdown",
   "metadata": {},
   "source": [
    "Repetimos el procedimiento, para calcular las segundas derivadas:"
   ]
  },
  {
   "cell_type": "code",
   "execution_count": 14,
   "metadata": {},
   "outputs": [],
   "source": [
    "dM11_tt = simplify(diff(dM11_t,phi)*dphi_t)\n",
    "dM12_tt = simplify(diff(dM12_t,phi)*dphi_t)\n",
    "dM22_tt = simplify(diff(dM22_t,phi)*dphi_t)"
   ]
  },
  {
   "cell_type": "code",
   "execution_count": 15,
   "metadata": {},
   "outputs": [
    {
     "data": {
      "image/png": "[encoded data removed]",
      "text/latex": [
       "$$\\left ( \\frac{2 a^{2} \\mu \\omega_{0}^{2}}{e^{2} - 1} \\left(e \\left(e \\sin{\\left (\\varphi_{0} \\right )} + \\sin{\\left (\\varphi \\right )}\\right) \\sin{\\left (\\varphi - \\varphi_{0} \\right )} \\cos{\\left (\\varphi \\right )} - \\left(e \\cos{\\left (\\varphi - \\varphi_{0} \\right )} + 1\\right) \\left(e \\sin{\\left (\\varphi \\right )} \\sin{\\left (\\varphi_{0} \\right )} + 2 \\sin^{2}{\\left (\\varphi \\right )} - 1\\right)\\right), \\quad \\frac{a^{2} \\mu \\omega_{0}^{2}}{2 e^{2} - 2} \\left(2 e^{2} \\sin{\\left (2 \\varphi_{0} \\right )} + 5 e \\sin{\\left (\\varphi + \\varphi_{0} \\right )} + e \\sin{\\left (3 \\varphi - \\varphi_{0} \\right )} + 4 \\sin{\\left (2 \\varphi \\right )}\\right), \\quad \\frac{2 a^{2} \\mu \\omega_{0}^{2}}{- e^{2} + 1} \\left(e \\left(e \\cos{\\left (\\varphi_{0} \\right )} + \\cos{\\left (\\varphi \\right )}\\right) \\sin{\\left (\\varphi \\right )} \\sin{\\left (\\varphi - \\varphi_{0} \\right )} + \\left(e \\cos{\\left (\\varphi - \\varphi_{0} \\right )} + 1\\right) \\left(e \\cos{\\left (\\varphi \\right )} \\cos{\\left (\\varphi_{0} \\right )} - 2 \\sin^{2}{\\left (\\varphi \\right )} + 1\\right)\\right)\\right )$$"
      ],
      "text/plain": [
       "⎛   2     2 ⎛                                                                 \n",
       "⎜2⋅a ⋅μ⋅ω₀ ⋅⎝e⋅(e⋅sin(varphi₀) + sin(varphi))⋅sin(varphi - varphi₀)⋅cos(varphi\n",
       "⎜─────────────────────────────────────────────────────────────────────────────\n",
       "⎜                                                                             \n",
       "⎝                                                                             \n",
       "\n",
       "                                  ⎛                                  2        \n",
       ") - (e⋅cos(varphi - varphi₀) + 1)⋅⎝e⋅sin(varphi)⋅sin(varphi₀) + 2⋅sin (varphi)\n",
       "──────────────────────────────────────────────────────────────────────────────\n",
       "  2                                                                           \n",
       " e  - 1                                                                       \n",
       "\n",
       "    ⎞⎞   2     2 ⎛   2                                                        \n",
       " - 1⎠⎠  a ⋅μ⋅ω₀ ⋅⎝2⋅e ⋅sin(2⋅varphi₀) + 5⋅e⋅sin(varphi + varphi₀) + e⋅sin(3⋅va\n",
       "──────, ──────────────────────────────────────────────────────────────────────\n",
       "                                                           2                  \n",
       "                                                        2⋅e  - 2              \n",
       "\n",
       "                                 ⎞     2     2 ⎛                              \n",
       "rphi - varphi₀) + 4⋅sin(2⋅varphi)⎠  2⋅a ⋅μ⋅ω₀ ⋅⎝e⋅(e⋅cos(varphi₀) + cos(varphi\n",
       "──────────────────────────────────, ──────────────────────────────────────────\n",
       "                                                                              \n",
       "                                                                              \n",
       "\n",
       "                                                                     ⎛        \n",
       "))⋅sin(varphi)⋅sin(varphi - varphi₀) + (e⋅cos(varphi - varphi₀) + 1)⋅⎝e⋅cos(va\n",
       "──────────────────────────────────────────────────────────────────────────────\n",
       "                                      2                                       \n",
       "                                   - e  + 1                                   \n",
       "\n",
       "                          2            ⎞⎞⎞\n",
       "rphi)⋅cos(varphi₀) - 2⋅sin (varphi) + 1⎠⎠⎟\n",
       "─────────────────────────────────────────⎟\n",
       "                                         ⎟\n",
       "                                         ⎠"
      ]
     },
     "execution_count": 15,
     "metadata": {},
     "output_type": "execute_result"
    }
   ],
   "source": [
    "dM11_tt,dM12_tt,dM22_tt"
   ]
  },
  {
   "cell_type": "markdown",
   "metadata": {},
   "source": [
    "Finalmente, hacemos lo mismo, para calcular la tercera derivada temporal:"
   ]
  },
  {
   "cell_type": "code",
   "execution_count": 16,
   "metadata": {
    "collapsed": true
   },
   "outputs": [],
   "source": [
    "dM11_ttt = simplify(diff(dM11_tt,phi)*dphi_t)\n",
    "dM12_ttt = simplify(diff(dM12_tt,phi)*dphi_t)\n",
    "dM22_ttt = simplify(diff(dM22_tt,phi)*dphi_t)"
   ]
  },
  {
   "cell_type": "code",
   "execution_count": 17,
   "metadata": {},
   "outputs": [
    {
     "data": {
      "image/png": "[encoded data removed]",
      "text/latex": [
       "$$\\left ( \\frac{2 a^{2} \\mu \\omega_{0}^{3}}{\\left(- e^{2} + 1\\right)^{\\frac{5}{2}}} \\left(e \\cos{\\left (\\varphi - \\varphi_{0} \\right )} + 1\\right)^{2} \\left(- \\frac{e}{2} \\sin{\\left (\\varphi - \\varphi_{0} \\right )} + \\frac{5 e}{4} \\sin{\\left (\\varphi + \\varphi_{0} \\right )} + \\frac{3 e}{4} \\sin{\\left (3 \\varphi - \\varphi_{0} \\right )} + 2 \\sin{\\left (2 \\varphi \\right )}\\right), \\quad - \\frac{a^{2} \\mu \\omega_{0}^{3}}{2 \\left(- e^{2} + 1\\right)^{\\frac{5}{2}}} \\left(e \\cos{\\left (\\varphi - \\varphi_{0} \\right )} + 1\\right)^{2} \\left(5 e \\cos{\\left (\\varphi + \\varphi_{0} \\right )} + 3 e \\cos{\\left (3 \\varphi - \\varphi_{0} \\right )} + 8 \\cos{\\left (2 \\varphi \\right )}\\right), \\quad - \\frac{2 a^{2} \\mu \\omega_{0}^{3}}{\\left(- e^{2} + 1\\right)^{\\frac{5}{2}}} \\left(e \\cos{\\left (\\varphi - \\varphi_{0} \\right )} + 1\\right)^{2} \\left(\\frac{e}{2} \\sin{\\left (\\varphi - \\varphi_{0} \\right )} + \\frac{5 e}{4} \\sin{\\left (\\varphi + \\varphi_{0} \\right )} + \\frac{3 e}{4} \\sin{\\left (3 \\varphi - \\varphi_{0} \\right )} + 2 \\sin{\\left (2 \\varphi \\right )}\\right)\\right )$$"
      ],
      "text/plain": [
       "⎛   2     3                              2 ⎛  e⋅sin(varphi - varphi₀)   5⋅e⋅si\n",
       "⎜2⋅a ⋅μ⋅ω₀ ⋅(e⋅cos(varphi - varphi₀) + 1) ⋅⎜- ─────────────────────── + ──────\n",
       "⎜                                          ⎝             2                    \n",
       "⎜─────────────────────────────────────────────────────────────────────────────\n",
       "⎜                                                                            5\n",
       "⎜                                                                  ⎛   2    ⎞ \n",
       "⎝                                                                  ⎝- e  + 1⎠ \n",
       "\n",
       "n(varphi + varphi₀)   3⋅e⋅sin(3⋅varphi - varphi₀)                  ⎞          \n",
       "─────────────────── + ─────────────────────────── + 2⋅sin(2⋅varphi)⎟    2     \n",
       "      4                            4                               ⎠  -a ⋅μ⋅ω₀\n",
       "────────────────────────────────────────────────────────────────────, ────────\n",
       "/2                                                                            \n",
       "                                                                              \n",
       "                                                                              \n",
       "\n",
       "                                                                              \n",
       "3                              2                                              \n",
       " ⋅(e⋅cos(varphi - varphi₀) + 1) ⋅(5⋅e⋅cos(varphi + varphi₀) + 3⋅e⋅cos(3⋅varphi\n",
       "──────────────────────────────────────────────────────────────────────────────\n",
       "                                                       5/2                    \n",
       "                                             ⎛   2    ⎞                       \n",
       "                                           2⋅⎝- e  + 1⎠                       \n",
       "\n",
       "                                     2     3                              2 ⎛e\n",
       "                                 -2⋅a ⋅μ⋅ω₀ ⋅(e⋅cos(varphi - varphi₀) + 1) ⋅⎜─\n",
       " - varphi₀) + 8⋅cos(2⋅varphi))                                              ⎝ \n",
       "───────────────────────────────, ─────────────────────────────────────────────\n",
       "                                                                              \n",
       "                                                                              \n",
       "                                                                              \n",
       "\n",
       "⋅sin(varphi - varphi₀)   5⋅e⋅sin(varphi + varphi₀)   3⋅e⋅sin(3⋅varphi - varphi\n",
       "────────────────────── + ───────────────────────── + ─────────────────────────\n",
       "          2                          4                            4           \n",
       "──────────────────────────────────────────────────────────────────────────────\n",
       "                               5/2                                            \n",
       "                     ⎛   2    ⎞                                               \n",
       "                     ⎝- e  + 1⎠                                               \n",
       "\n",
       "₀)                  ⎞ ⎞\n",
       "── + 2⋅sin(2⋅varphi)⎟ ⎟\n",
       "                    ⎠ ⎟\n",
       "──────────────────────⎟\n",
       "                      ⎟\n",
       "                      ⎟\n",
       "                      ⎠"
      ]
     },
     "execution_count": 17,
     "metadata": {},
     "output_type": "execute_result"
    }
   ],
   "source": [
    "dM11_ttt,dM12_ttt,dM22_ttt"
   ]
  },
  {
   "cell_type": "markdown",
   "metadata": {},
   "source": [
    "# Potencia promedio radiada"
   ]
  },
  {
   "cell_type": "markdown",
   "metadata": {},
   "source": [
    "A continuación, calcularemos la potencia promedio radiada, evaluando la expresión\n",
    "$$\n",
    "\\left\\langle P\\right\\rangle=\\frac{G}{5 c^5} \\left\\langle\\dddot{Q}{}^{ij}\\dddot{Q}{}^{ij}\\right\\rangle\n",
    "$$\n",
    "que, en nuestro caso de movimiento en el plano $xy$, se reduce a\n",
    "$$\\left\\langle P\\right\\rangle=\\frac{2G}{15c^5}\\, \\left\\langle \\left(\\dddot{M}_{11}\\right)^2+ \\left(\\dddot{M}_{22}\\right)^2+3\\left(\\dddot{M}_{12}\\right)^2 -\\dddot{M}_{11}\\dddot{M}_{22}\\right\\rangle .\n",
    "$$\n",
    "\n",
    "Primero, definiremos los símbolos de $G, c$ y $P$:"
   ]
  },
  {
   "cell_type": "code",
   "execution_count": 18,
   "metadata": {
    "collapsed": true
   },
   "outputs": [],
   "source": [
    "G = Symbol('G')\n",
    "c = Symbol('c')\n",
    "P = Symbol('P')"
   ]
  },
  {
   "cell_type": "markdown",
   "metadata": {},
   "source": [
    "Y reemplazamos los valores de las derivadas del momento cuadrupolar en la expresión para la potencia (aún sin promediar!):"
   ]
  },
  {
   "cell_type": "code",
   "execution_count": 19,
   "metadata": {},
   "outputs": [],
   "source": [
    "P = simplify(((2*G)/(15*c**5))*(dM11_ttt**2 + dM22_ttt**2 + 3*dM12_ttt**2 - dM11_ttt*dM22_ttt))"
   ]
  },
  {
   "cell_type": "code",
   "execution_count": 20,
   "metadata": {},
   "outputs": [
    {
     "data": {
      "image/png": "[encoded data removed]",
      "text/latex": [
       "$$- \\frac{G a^{4} \\mu^{2} \\omega_{0}^{6}}{30 c^{5} \\left(e^{2} - 1\\right)^{5}} \\left(e \\cos{\\left (\\varphi - \\varphi_{0} \\right )} + 1\\right)^{4} \\left(3 \\left(5 e \\cos{\\left (\\varphi + \\varphi_{0} \\right )} + 3 e \\cos{\\left (3 \\varphi - \\varphi_{0} \\right )} + 8 \\cos{\\left (2 \\varphi \\right )}\\right)^{2} + \\left(- 2 e \\sin{\\left (\\varphi - \\varphi_{0} \\right )} + 5 e \\sin{\\left (\\varphi + \\varphi_{0} \\right )} + 3 e \\sin{\\left (3 \\varphi - \\varphi_{0} \\right )} + 8 \\sin{\\left (2 \\varphi \\right )}\\right)^{2} + \\left(- 2 e \\sin{\\left (\\varphi - \\varphi_{0} \\right )} + 5 e \\sin{\\left (\\varphi + \\varphi_{0} \\right )} + 3 e \\sin{\\left (3 \\varphi - \\varphi_{0} \\right )} + 8 \\sin{\\left (2 \\varphi \\right )}\\right) \\left(2 e \\sin{\\left (\\varphi - \\varphi_{0} \\right )} + 5 e \\sin{\\left (\\varphi + \\varphi_{0} \\right )} + 3 e \\sin{\\left (3 \\varphi - \\varphi_{0} \\right )} + 8 \\sin{\\left (2 \\varphi \\right )}\\right) + \\left(2 e \\sin{\\left (\\varphi - \\varphi_{0} \\right )} + 5 e \\sin{\\left (\\varphi + \\varphi_{0} \\right )} + 3 e \\sin{\\left (3 \\varphi - \\varphi_{0} \\right )} + 8 \\sin{\\left (2 \\varphi \\right )}\\right)^{2}\\right)$$"
      ],
      "text/plain": [
       "    4  2   6                              4 ⎛                                 \n",
       "-G⋅a ⋅μ ⋅ω₀ ⋅(e⋅cos(varphi - varphi₀) + 1) ⋅⎝3⋅(5⋅e⋅cos(varphi + varphi₀) + 3⋅\n",
       "──────────────────────────────────────────────────────────────────────────────\n",
       "                                                                              \n",
       "                                                                              \n",
       "                                                                              \n",
       "\n",
       "                                            2                                 \n",
       "e⋅cos(3⋅varphi - varphi₀) + 8⋅cos(2⋅varphi))  + (-2⋅e⋅sin(varphi - varphi₀) + \n",
       "──────────────────────────────────────────────────────────────────────────────\n",
       "                                                                              \n",
       "                                                                              \n",
       "                                                                              \n",
       "\n",
       "                                                                          2   \n",
       "5⋅e⋅sin(varphi + varphi₀) + 3⋅e⋅sin(3⋅varphi - varphi₀) + 8⋅sin(2⋅varphi))  + \n",
       "──────────────────────────────────────────────────────────────────────────────\n",
       "                                                                              \n",
       "                                                                              \n",
       "                                                                              \n",
       "\n",
       "                                                                              \n",
       "(-2⋅e⋅sin(varphi - varphi₀) + 5⋅e⋅sin(varphi + varphi₀) + 3⋅e⋅sin(3⋅varphi - v\n",
       "──────────────────────────────────────────────────────────────────────────────\n",
       "                                                5                             \n",
       "                                      5 ⎛ 2    ⎞                              \n",
       "                                  30⋅c ⋅⎝e  - 1⎠                              \n",
       "\n",
       "                                                                              \n",
       "arphi₀) + 8⋅sin(2⋅varphi))⋅(2⋅e⋅sin(varphi - varphi₀) + 5⋅e⋅sin(varphi + varph\n",
       "──────────────────────────────────────────────────────────────────────────────\n",
       "                                                                              \n",
       "                                                                              \n",
       "                                                                              \n",
       "\n",
       "                                                                              \n",
       "i₀) + 3⋅e⋅sin(3⋅varphi - varphi₀) + 8⋅sin(2⋅varphi)) + (2⋅e⋅sin(varphi - varph\n",
       "──────────────────────────────────────────────────────────────────────────────\n",
       "                                                                              \n",
       "                                                                              \n",
       "                                                                              \n",
       "\n",
       "                                                                              \n",
       "i₀) + 5⋅e⋅sin(varphi + varphi₀) + 3⋅e⋅sin(3⋅varphi - varphi₀) + 8⋅sin(2⋅varphi\n",
       "──────────────────────────────────────────────────────────────────────────────\n",
       "                                                                              \n",
       "                                                                              \n",
       "                                                                              \n",
       "\n",
       "  2⎞ \n",
       ")) ⎠ \n",
       "─────\n",
       "     \n",
       "     \n",
       "     "
      ]
     },
     "execution_count": 20,
     "metadata": {},
     "output_type": "execute_result"
    }
   ],
   "source": [
    "P"
   ]
  },
  {
   "cell_type": "markdown",
   "metadata": {},
   "source": [
    "Nuevamente, usando la regla de la cadena, podemos reescribir el promedio requerido en términos de una integral sobre el ángulo $\\varphi$:\n",
    "\\begin{align}\n",
    "\\left\\langle P(t)\\right\\rangle &= \\frac{1}{T}\\int_0^T P(t)\\,dt \\\\\n",
    "&= \\frac{1}{T}\\int_0^{2\\pi} P(\\varphi)\\frac{dt}{d\\varphi}\\,d\\varphi \\\\\n",
    "&= \\frac{1}{T}\\frac{\\mu}{L}\\int_0^{2\\pi} r^2(\\varphi)P(\\varphi)\\,d\\varphi \\\\\n",
    "&= \\frac{\\mu a^2(1-e^2)^2}{TL}\\int_0^{2\\pi} \\frac{P(\\varphi)}{\\left[1+e\\cos(\\varphi-\\varphi_0)\\right]^2}\\,d\\varphi \\\\\n",
    "&= \\frac{(1-e^2)^{3/2}}{2\\pi}\\int_0^{2\\pi} \\frac{P(\\varphi)}{\\left[1+e\\cos(\\varphi-\\varphi_0)\\right]^2}\\,d\\varphi.\n",
    "\\end{align}"
   ]
  },
  {
   "cell_type": "code",
   "execution_count": 21,
   "metadata": {},
   "outputs": [],
   "source": [
    "integrando = factor(simplify(((1-e**2)**(3/2))/(2*pi))*(P/(1+e*cos(phi-phi0))**2))"
   ]
  },
  {
   "cell_type": "code",
   "execution_count": 22,
   "metadata": {},
   "outputs": [
    {
     "data": {
      "image/png": "[encoded data removed]",
      "text/latex": [
       "$$\\frac{G a^{4} \\mu^{2} \\omega_{0}^{6} \\left(e \\cos{\\left (\\varphi - \\varphi_{0} \\right )} + 1\\right)^{2}}{60 \\pi c^{5} \\left(e - 1\\right)^{4} \\left(e + 1\\right)^{4}} \\left(4 e^{2} \\sin^{2}{\\left (\\varphi - \\varphi_{0} \\right )} + 75 e^{2} \\sin^{2}{\\left (\\varphi + \\varphi_{0} \\right )} + 90 e^{2} \\sin{\\left (\\varphi + \\varphi_{0} \\right )} \\sin{\\left (3 \\varphi - \\varphi_{0} \\right )} + 27 e^{2} \\sin^{2}{\\left (3 \\varphi - \\varphi_{0} \\right )} + 75 e^{2} \\cos^{2}{\\left (\\varphi + \\varphi_{0} \\right )} + 90 e^{2} \\cos{\\left (\\varphi + \\varphi_{0} \\right )} \\cos{\\left (3 \\varphi - \\varphi_{0} \\right )} + 27 e^{2} \\cos^{2}{\\left (3 \\varphi - \\varphi_{0} \\right )} + 240 e \\sin{\\left (2 \\varphi \\right )} \\sin{\\left (\\varphi + \\varphi_{0} \\right )} + 144 e \\sin{\\left (2 \\varphi \\right )} \\sin{\\left (3 \\varphi - \\varphi_{0} \\right )} + 240 e \\cos{\\left (2 \\varphi \\right )} \\cos{\\left (\\varphi + \\varphi_{0} \\right )} + 144 e \\cos{\\left (2 \\varphi \\right )} \\cos{\\left (3 \\varphi - \\varphi_{0} \\right )} + 192 \\sin^{2}{\\left (2 \\varphi \\right )} + 192 \\cos^{2}{\\left (2 \\varphi \\right )}\\right)$$"
      ],
      "text/plain": [
       "   4  2   6                              2 ⎛   2    2                         \n",
       "G⋅a ⋅μ ⋅ω₀ ⋅(e⋅cos(varphi - varphi₀) + 1) ⋅⎝4⋅e ⋅sin (varphi - varphi₀) + 75⋅e\n",
       "──────────────────────────────────────────────────────────────────────────────\n",
       "                                                                              \n",
       "                                                                              \n",
       "\n",
       "2    2                         2                                              \n",
       " ⋅sin (varphi + varphi₀) + 90⋅e ⋅sin(varphi + varphi₀)⋅sin(3⋅varphi - varphi₀)\n",
       "──────────────────────────────────────────────────────────────────────────────\n",
       "                                                                              \n",
       "                                                                              \n",
       "\n",
       "       2    2                           2    2                         2      \n",
       " + 27⋅e ⋅sin (3⋅varphi - varphi₀) + 75⋅e ⋅cos (varphi + varphi₀) + 90⋅e ⋅cos(v\n",
       "──────────────────────────────────────────────────────────────────────────────\n",
       "                                                                              \n",
       "                                                                              \n",
       "\n",
       "                                               2    2                         \n",
       "arphi + varphi₀)⋅cos(3⋅varphi - varphi₀) + 27⋅e ⋅cos (3⋅varphi - varphi₀) + 24\n",
       "──────────────────────────────────────────────────────────────────────────────\n",
       "                        5        4        4                                   \n",
       "                  60⋅π⋅c ⋅(e - 1) ⋅(e + 1)                                    \n",
       "\n",
       "                                                                              \n",
       "0⋅e⋅sin(2⋅varphi)⋅sin(varphi + varphi₀) + 144⋅e⋅sin(2⋅varphi)⋅sin(3⋅varphi - v\n",
       "──────────────────────────────────────────────────────────────────────────────\n",
       "                                                                              \n",
       "                                                                              \n",
       "\n",
       "                                                                              \n",
       "arphi₀) + 240⋅e⋅cos(2⋅varphi)⋅cos(varphi + varphi₀) + 144⋅e⋅cos(2⋅varphi)⋅cos(\n",
       "──────────────────────────────────────────────────────────────────────────────\n",
       "                                                                              \n",
       "                                                                              \n",
       "\n",
       "                             2                    2          ⎞\n",
       "3⋅varphi - varphi₀) + 192⋅sin (2⋅varphi) + 192⋅cos (2⋅varphi)⎠\n",
       "──────────────────────────────────────────────────────────────\n",
       "                                                              \n",
       "                                                              "
      ]
     },
     "execution_count": 22,
     "metadata": {},
     "output_type": "execute_result"
    }
   ],
   "source": [
    "integrando"
   ]
  },
  {
   "cell_type": "code",
   "execution_count": 23,
   "metadata": {},
   "outputs": [],
   "source": [
    "promedio_P = Symbol('PP')"
   ]
  },
  {
   "cell_type": "code",
   "execution_count": 24,
   "metadata": {
    "collapsed": true
   },
   "outputs": [],
   "source": [
    "import time"
   ]
  },
  {
   "cell_type": "code",
   "execution_count": 25,
   "metadata": {},
   "outputs": [
    {
     "name": "stdout",
     "output_type": "stream",
     "text": [
      "6605.178473\n"
     ]
    }
   ],
   "source": [
    "# tomamos el tiempo de este cálculo, porque es el que más tarda (~ 2 horas!)\n",
    "st = time.time()\n",
    "promedio_P =integrate(integrando,(phi,0,2*pi))\n",
    "ft = time.time()\n",
    "print(ft-st)"
   ]
  },
  {
   "cell_type": "code",
   "execution_count": 26,
   "metadata": {},
   "outputs": [
    {
     "data": {
      "image/png": "[encoded data removed]",
      "text/latex": [
       "$$\\frac{G a^{4} \\mu^{2} \\omega_{0}^{6} \\left(37 e^{4} + 292 e^{2} + 96\\right)}{15 c^{5} \\left(e^{8} - 4 e^{6} + 6 e^{4} - 4 e^{2} + 1\\right)}$$"
      ],
      "text/plain": [
       "    4  2   6 ⎛    4        2     ⎞ \n",
       " G⋅a ⋅μ ⋅ω₀ ⋅⎝37⋅e  + 292⋅e  + 96⎠ \n",
       "───────────────────────────────────\n",
       "    5 ⎛ 8      6      4      2    ⎞\n",
       "15⋅c ⋅⎝e  - 4⋅e  + 6⋅e  - 4⋅e  + 1⎠"
      ]
     },
     "execution_count": 26,
     "metadata": {},
     "output_type": "execute_result"
    }
   ],
   "source": [
    "simplify(promedio_P)"
   ]
  },
  {
   "cell_type": "markdown",
   "metadata": {},
   "source": [
    "# Como en el apunte:"
   ]
  },
  {
   "cell_type": "markdown",
   "metadata": {},
   "source": [
    "$$\n",
    "g(\\varphi) := 2 [1 + e \\cos(\\varphi − \\varphi_{0} )]^4 [ 24 + 13e^2 + 48e \\cos(\\varphi − \\varphi_{0} ) + 11e^2 \\cos(2\\varphi − 2\\varphi_{0} )]\n",
    "$$\n",
    "\n",
    "$$\n",
    "\\left\\langle g(\\varphi)\\right\\rangle =\\frac{(1 − e^2 )^{3/2}}{2\\pi}\\int_{0}^{2\\pi} \\frac{g(\\varphi)}{[1 + e cos(\\varphi − \\varphi_{0})]^2} d\\varphi\n",
    "$$"
   ]
  },
  {
   "cell_type": "code",
   "execution_count": 27,
   "metadata": {
    "collapsed": true
   },
   "outputs": [],
   "source": [
    "M = Symbol('M')\n",
    "x = Symbol('x')\n",
    "x0 = Symbol('x0')\n",
    "g = Function('g')(x)\n",
    "promedio_g = Symbol('Pg')"
   ]
  },
  {
   "cell_type": "code",
   "execution_count": 28,
   "metadata": {},
   "outputs": [],
   "source": [
    "g = 2*((1 + e*cos(phi-phi0))**4)*(24 + 13*e**2 + 48*e*cos(phi-phi0) + 11*e**2*cos(2*phi-2*phi0))"
   ]
  },
  {
   "cell_type": "code",
   "execution_count": 29,
   "metadata": {},
   "outputs": [
    {
     "data": {
      "image/png": "[encoded data removed]",
      "text/latex": [
       "$$2 \\left(e \\cos{\\left (\\varphi - \\varphi_{0} \\right )} + 1\\right)^{4} \\left(11 e^{2} \\cos{\\left (2 \\varphi - 2 \\varphi_{0} \\right )} + 13 e^{2} + 48 e \\cos{\\left (\\varphi - \\varphi_{0} \\right )} + 24\\right)$$"
      ],
      "text/plain": [
       "                               4 ⎛    2                                 2     \n",
       "2⋅(e⋅cos(varphi - varphi₀) + 1) ⋅⎝11⋅e ⋅cos(2⋅varphi - 2⋅varphi₀) + 13⋅e  + 48\n",
       "\n",
       "                             ⎞\n",
       "⋅e⋅cos(varphi - varphi₀) + 24⎠"
      ]
     },
     "execution_count": 29,
     "metadata": {},
     "output_type": "execute_result"
    }
   ],
   "source": [
    "g"
   ]
  },
  {
   "cell_type": "markdown",
   "metadata": {},
   "source": [
    "$$\n",
    "\\left\\langle P\\right\\rangle=\\frac{2 G^4 \\mu^2 M^3}{15 c^5 a^5 (1 − e^2 )^5} \\left\\langle g(\\varphi)\\right\\rangle\n",
    "$$"
   ]
  },
  {
   "cell_type": "code",
   "execution_count": 30,
   "metadata": {},
   "outputs": [],
   "source": [
    "promedio_g = simplify(((1-e**2)**(3/2))/(2*pi))*integrate(g/(1+e*cos(phi-phi0))**2,(phi,0,2*pi))"
   ]
  },
  {
   "cell_type": "code",
   "execution_count": 31,
   "metadata": {},
   "outputs": [
    {
     "data": {
      "image/png": "[encoded data removed]",
      "text/latex": [
       "$$\\frac{1}{2} \\left(- e^{2} + 1\\right) \\left(37 e^{4} + 292 e^{2} + 96\\right)$$"
      ],
      "text/plain": [
       "⎛   2    ⎞ ⎛    4        2     ⎞\n",
       "⎝- e  + 1⎠⋅⎝37⋅e  + 292⋅e  + 96⎠\n",
       "────────────────────────────────\n",
       "               2                "
      ]
     },
     "execution_count": 31,
     "metadata": {},
     "output_type": "execute_result"
    }
   ],
   "source": [
    "trigsimp(promedio_g)"
   ]
  },
  {
   "cell_type": "markdown",
   "metadata": {},
   "source": [
    "# Momentum angular radiado"
   ]
  },
  {
   "cell_type": "markdown",
   "metadata": {},
   "source": [
    "Similarmente, para calcular el momento angular radiado usamos\n",
    "$$\n",
    "\\left\\langle\\dot{L}{}^{i}\\right\\rangle=\\frac{2 G}{5 c^5} \\epsilon^{ijk}\\left\\langle\\ddot{M}{}^{ja}\\ddot{M}{}^{ka}\\right\\rangle .\n",
    "$$"
   ]
  },
  {
   "cell_type": "markdown",
   "metadata": {},
   "source": [
    "En nuestro caso, de movimiento en el plano $xy$, encontramos:\n",
    "\\begin{align}\n",
    "\\left\\langle\\dot{L}{}^{3}\\right\\rangle &= \\frac{2 G}{5 c^5} \\left\\langle\\epsilon^{31k}\\ddot{M}{}^{1l}\\dddot{M}{}^{kl}+\\epsilon^{32k}\\ddot{M}{}^{2l}\\dddot{M}{}^{kl}\\right\\rangle\\\\\n",
    "&= \\frac{2 G}{5 c^5} \\left\\langle\\epsilon^{312}\\ddot{M}{}^{1l}\\dddot{M}{}^{2l}+\\epsilon^{321}\\ddot{M}{}^{2l}\\dddot{M}{}^{1l}\\right\\rangle \\\\\n",
    " &= \\frac{2 G}{5 c^5} \\left\\langle\\ddot{M}{}^{11}\\dddot{M}{}^{21}+\\ddot{M}{}^{12}\\dddot{M}{}^{22}-\\ddot{M}{}^{21}\\dddot{M}{}^{11}-\\ddot{M}{}^{22}\\dddot{M}{}^{12}\\right\\rangle \\\\\n",
    "&=\\frac{4 G}{5 c^5} \\left\\langle\\ddot{M}{}^{12}(\\dddot{M}{}^{22}-\\dddot{M}{}^{11})\\right\\rangle .\n",
    "\\end{align}"
   ]
  },
  {
   "cell_type": "code",
   "execution_count": 32,
   "metadata": {
    "collapsed": true
   },
   "outputs": [],
   "source": [
    "L_t = simplify(((4*G)/(5*c**5))*(dM12_tt*(dM22_ttt-dM11_ttt)))"
   ]
  },
  {
   "cell_type": "code",
   "execution_count": 33,
   "metadata": {},
   "outputs": [
    {
     "data": {
      "image/png": "[encoded data removed]",
      "text/latex": [
       "$$\\frac{2 G a^{4} \\mu^{2} \\omega_{0}^{5}}{5 c^{5} \\left(- e^{2} + 1\\right)^{\\frac{7}{2}}} \\left(e \\cos{\\left (\\varphi - \\varphi_{0} \\right )} + 1\\right)^{2} \\left(5 e \\sin{\\left (\\varphi + \\varphi_{0} \\right )} + 3 e \\sin{\\left (3 \\varphi - \\varphi_{0} \\right )} + 8 \\sin{\\left (2 \\varphi \\right )}\\right) \\left(2 e^{2} \\sin{\\left (2 \\varphi_{0} \\right )} + 5 e \\sin{\\left (\\varphi + \\varphi_{0} \\right )} + e \\sin{\\left (3 \\varphi - \\varphi_{0} \\right )} + 4 \\sin{\\left (2 \\varphi \\right )}\\right)$$"
      ],
      "text/plain": [
       "     4  2   5                              2                                  \n",
       "2⋅G⋅a ⋅μ ⋅ω₀ ⋅(e⋅cos(varphi - varphi₀) + 1) ⋅(5⋅e⋅sin(varphi + varphi₀) + 3⋅e⋅\n",
       "──────────────────────────────────────────────────────────────────────────────\n",
       "                                                                              \n",
       "                                                                              \n",
       "                                                                              \n",
       "\n",
       "                                           ⎛   2                              \n",
       "sin(3⋅varphi - varphi₀) + 8⋅sin(2⋅varphi))⋅⎝2⋅e ⋅sin(2⋅varphi₀) + 5⋅e⋅sin(varp\n",
       "──────────────────────────────────────────────────────────────────────────────\n",
       "                                    7/2                                       \n",
       "                        5 ⎛   2    ⎞                                          \n",
       "                     5⋅c ⋅⎝- e  + 1⎠                                          \n",
       "\n",
       "                                                           ⎞\n",
       "hi + varphi₀) + e⋅sin(3⋅varphi - varphi₀) + 4⋅sin(2⋅varphi)⎠\n",
       "────────────────────────────────────────────────────────────\n",
       "                                                            \n",
       "                                                            \n",
       "                                                            "
      ]
     },
     "execution_count": 33,
     "metadata": {},
     "output_type": "execute_result"
    }
   ],
   "source": [
    "L_t"
   ]
  },
  {
   "cell_type": "markdown",
   "metadata": {},
   "source": [
    "El promedio se calcula de forma similar a como se hizo con la potencia, realizando un cambio de variable para finalmente integrar sobre el ángulo $\\varphi$"
   ]
  },
  {
   "cell_type": "code",
   "execution_count": 34,
   "metadata": {},
   "outputs": [],
   "source": [
    "integrando = (1-e**2)**(3/2)/(2*pi)*L_t/(1+e*cos(phi-phi0))**2"
   ]
  },
  {
   "cell_type": "code",
   "execution_count": 35,
   "metadata": {},
   "outputs": [],
   "source": [
    "promedio_L_t = trigsimp(integrate(integrando,(phi,0,2*pi)))"
   ]
  },
  {
   "cell_type": "code",
   "execution_count": 36,
   "metadata": {},
   "outputs": [
    {
     "data": {
      "image/png": "[encoded data removed]",
      "text/latex": [
       "$$\\frac{4 G a^{4} \\mu^{2} \\omega_{0}^{5} \\left(7 e^{2} + 8\\right)}{5 c^{5} \\left(- e + 1\\right)^{\\frac{5}{2}} \\left(e + 1\\right)^{\\frac{5}{2}}}$$"
      ],
      "text/plain": [
       "       4  2   5 ⎛   2    ⎞ \n",
       "  4⋅G⋅a ⋅μ ⋅ω₀ ⋅⎝7⋅e  + 8⎠ \n",
       "───────────────────────────\n",
       "   5         5/2        5/2\n",
       "5⋅c ⋅(-e + 1)   ⋅(e + 1)   "
      ]
     },
     "execution_count": 36,
     "metadata": {},
     "output_type": "execute_result"
    }
   ],
   "source": [
    "promedio_L_t"
   ]
  }
 ],
 "metadata": {
  "kernelspec": {
   "display_name": "Python 3",
   "language": "python",
   "name": "python3"
  },
  "language_info": {
   "codemirror_mode": {
    "name": "ipython",
    "version": 3
   },
   "file_extension": ".py",
   "mimetype": "text/x-python",
   "name": "python",
   "nbconvert_exporter": "python",
   "pygments_lexer": "ipython3",
   "version": "3.6.9"
  }
 },
 "nbformat": 4,
 "nbformat_minor": 1
}
